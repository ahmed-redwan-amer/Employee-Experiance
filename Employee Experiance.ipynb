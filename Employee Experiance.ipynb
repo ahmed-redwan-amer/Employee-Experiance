{
 "cells": [
  {
   "cell_type": "code",
   "execution_count": 1,
   "metadata": {},
   "outputs": [],
   "source": [
    "#قائمتان\n",
    "#الاولى تحتوى على سنين الخبرة للموظفين\n",
    "#الثانية تحتوي على مرتبات الموظفين\n",
    "#فلو عندى موظف جديد مش موجود بالقائمة سيقوم بتقدير مرتب الموظف الجديد\n",
    "#2 lists\n",
    "#1-years of employee's experiance. 2- employee's salaries\n",
    "#years of experiance\n",
    "experiance=[1,2,3,5,8,9,11,22]\n",
    "salaries=[3000,3500,4000,4500,5000,6000,8000,12000]\n",
    "#قبل ما اكمل الكود محتاج اتاكد ان طول ال2lists متساوى وان العناصر لل2lists من نفس نوع الtype\n",
    "#عشان اتاكد من طول الlist متساوى"
   ]
  },
  {
   "cell_type": "code",
   "execution_count": 2,
   "metadata": {},
   "outputs": [
    {
     "data": {
      "text/plain": [
       "8"
      ]
     },
     "execution_count": 2,
     "metadata": {},
     "output_type": "execute_result"
    }
   ],
   "source": [
    "#قبل ما اكمل الكود محتاج اتاكد ان طول ال2lists متساوى وان العناصر لل2lists من نفس نوع الtype\n",
    "#عشان اتاكد من طول الlist متساوى\n",
    "len(salaries)\n",
    "len(experiance)"
   ]
  },
  {
   "cell_type": "code",
   "execution_count": 3,
   "metadata": {},
   "outputs": [
    {
     "data": {
      "text/plain": [
       "int"
      ]
     },
     "execution_count": 3,
     "metadata": {},
     "output_type": "execute_result"
    }
   ],
   "source": [
    "#عشان اتاكد من ان عناصر اى رقم داخل الlist الاولى او الثانية من نفس النوع\n",
    "type(salaries[0])\n",
    "type(experiance[1])"
   ]
  },
  {
   "cell_type": "code",
   "execution_count": 4,
   "metadata": {},
   "outputs": [
    {
     "name": "stdout",
     "output_type": "stream",
     "text": [
      "plz enter the new employee name: ahmed\n",
      "plz enter the new employee experiance: 20\n"
     ]
    }
   ],
   "source": [
    "#دلوقتى انا عايز اعمل كود يطلب من اليوزر انة يدخل اسم الموظف الجديد وسنين خبرتة\n",
    "newemployee=input(\"plz enter the new employee name: \")\n",
    "newemployee_exp=float(input(\"plz enter the new employee experiance: \"))"
   ]
  },
  {
   "cell_type": "code",
   "execution_count": 5,
   "metadata": {},
   "outputs": [
    {
     "data": {
      "text/plain": [
       "float"
      ]
     },
     "execution_count": 5,
     "metadata": {},
     "output_type": "execute_result"
    }
   ],
   "source": [
    "#نتاكد من نوع الداتا اللى تم ادخالها من اليوزر لكل variable\n",
    "type(newemployee)\n",
    "type(newemployee_exp)"
   ]
  },
  {
   "cell_type": "code",
   "execution_count": 6,
   "metadata": {},
   "outputs": [],
   "source": [
    "#دلوقتى مطلوب منى انى اخد رقم newemployee_exp واشوفة جوة الlist بتاعة الexpriance لو موجود يطلع ليا المرتب عالطول المقابل لة فى الlist بتاعة الsalaries ولو مش موجود يطلع ليا range للرقم ويجيب منها range من الlist بتاعة الsalaries\n",
    "#دلوقتى انا محتاج اليوزر يدخل ليا سنين الخبرة وبعدين اخلى المدخل دة يلف جوة الكود ولو لقى الرقم من ضمن الارقام اللى فى الlist بتاعة experiance يظهرلى عالطول المفروض ياخد مرتب قد اية من الlist بتاعة الsalaries\n",
    "#طيب لو مالاقهوش يبقى يجيب الrange من الlist بتاعة الexperiance وبعدين يجيب الrange من الlist بتاعة الsalaries ويظهر لليوزر المفروض يقبض كام\n",
    "#بمعنى لو دخل رقم 4 ورقم 4 مش موجود فى الlist بتاعة الexperiance يبقى هيجيب الrange من الخبرة ويظهر لليوزر range المرتب\n",
    "#هنعرف 2 متغير متغير للحد الادنى(عشان لو كتبت رقم مش موجود وهيجيب range ومتغير للحد الاعلى)\n",
    "#متغير الحد الادنى\n",
    "lower_exp=0\n",
    "upper_exp=0"
   ]
  },
  {
   "cell_type": "code",
   "execution_count": 7,
   "metadata": {},
   "outputs": [
    {
     "name": "stdout",
     "output_type": "stream",
     "text": [
      "22\n"
     ]
    }
   ],
   "source": [
    "#تمام دلوقتى انا عايز اعمل كود يلف جوة الكود عشان يجيب الحد الادنى \n",
    "#عشان يلف جوة الlist بتاعة الexperiance\n",
    "for i in experiance:\n",
    "#عشان يبص على عدد سنين الخبرة الخاصة بالموظف الجديد ويطلع ليها الحد الادنى\n",
    "    if i<newemployee_exp:\n",
    "#هيبص على كل رقم جوة الlist بتاعة الexperiance ..رقم,رقم..ويتاكد ان سنين خبرة الموظف الجديد اكبر من كل رقم داخل الlist..ولو لقى ان سنين خبرة الموظف الجديد اصغر من رقم داخل الlist...ساعتها هيعمل اية؟\n",
    "        lower_exp=i\n",
    "#لو لقى رقم اصغر من سنين خبرة الموظف الجديد هيخزن الرقم الاصغر دة عالطول فى الlower ودة هيبقى الحد الادنى\n",
    "for i in experiance:\n",
    "#عشان يبص على عدد سنين الخبرة الخاصة بالموظف الجديد ويطلع ليها الحد الاعلى\n",
    "    if i>newemployee_exp:\n",
    "#هيبص على كل رقم جوة الlist بتاعة الexperiance ..رقم,رقم..ويتاكد ان سنين خبرة الموظف الجديد اصغر من كل رقم داخل الlist..ولو لقى ان سنين خبرة الموظف الجديد اكبر من رقم داخل الlist...ساعتها هيعمل اية؟\n",
    "        upper_exp=i\n",
    "#يعنى اية كل دة:بمعنى ان لو دخلت عدد سنين خبرة الموظف الجديد=6 سنين..هيخزن فى الlower الرقم 5 , وهيخزن فى الupper الرقم 8 من الlist بتاعة الexperiance\n",
    "#هقولة دلوقتى يطبعلى الرقم الاعلى وبعدين هطلب منة يخرج برة الloop\n",
    "        print(upper_exp)\n",
    "        break"
   ]
  },
  {
   "cell_type": "code",
   "execution_count": 8,
   "metadata": {},
   "outputs": [
    {
     "name": "stdout",
     "output_type": "stream",
     "text": [
      "the salary of the new employee is: 10000.0Dollars\n"
     ]
    }
   ],
   "source": [
    "#دلوقتى انا عايز اخلية يبص على رقم الindex فى الlist بتاعة الexperiance واقولة انة بالرقم بتاع الindex دة قارنة بالرقم بتاع الindex الخاص بالlist بتاع الsalaries\n",
    "#تمام دلوقتى انا عايز اقولة لو جيبت الindex بتاعة الحد الادنى فى الlist بتاعة الexpriance هاتلى نفس الindex فى الراتب الاقل منة..ونفس النظام فى الحد الاعلى..هنعملها ازاى؟\n",
    "lower_salary=salaries[experiance.index(lower_exp)]\n",
    "#هعمل منغير جديد للحد الادنى فى الsalaries وهقولة لما تجيب الlower هات الindex بتاعة وحط الindex دة فى الحد الادنى للاجور ك index\n",
    "heigher_salary=salaries[experiance.index(upper_exp)]        \n",
    "#دلوقتى هنجيب الراتب بتاع الموظف الجديد\n",
    "salaryofthenewemployee=str((lower_salary+heigher_salary)/2)\n",
    "print(\"the salary of the new employee is: \" +salaryofthenewemployee + \"Dollars\" )"
   ]
  },
  {
   "cell_type": "code",
   "execution_count": null,
   "metadata": {},
   "outputs": [],
   "source": []
  }
 ],
 "metadata": {
  "kernelspec": {
   "display_name": "Python 3",
   "language": "python",
   "name": "python3"
  },
  "language_info": {
   "codemirror_mode": {
    "name": "ipython",
    "version": 3
   },
   "file_extension": ".py",
   "mimetype": "text/x-python",
   "name": "python",
   "nbconvert_exporter": "python",
   "pygments_lexer": "ipython3",
   "version": "3.7.3"
  }
 },
 "nbformat": 4,
 "nbformat_minor": 4
}
